{
 "cells": [
  {
   "cell_type": "markdown",
   "id": "8b580e50-e233-4d75-884d-f9ac1abdaedc",
   "metadata": {
    "jp-MarkdownHeadingCollapsed": true
   },
   "source": [
    "#### Importing Libs"
   ]
  },
  {
   "cell_type": "code",
   "execution_count": 19,
   "id": "3557c77e-34c4-4915-9e1e-d8c756616f3e",
   "metadata": {},
   "outputs": [
    {
     "name": "stderr",
     "output_type": "stream",
     "text": [
      "[nltk_data] Downloading package punkt to /home/gerzem1/nltk_data...\n",
      "[nltk_data]   Package punkt is already up-to-date!\n"
     ]
    },
    {
     "data": {
      "text/plain": [
       "True"
      ]
     },
     "execution_count": 19,
     "metadata": {},
     "output_type": "execute_result"
    }
   ],
   "source": [
    "# Python basics\n",
    "from pprint import pprint\n",
    "import re\n",
    "from typing import List\n",
    "import json\n",
    "\n",
    "# NLP & Embeddings\n",
    "from transformers import AutoTokenizer\n",
    "from sentence_transformers import SentenceTransformer\n",
    "\n",
    "import nltk       \n",
    "nltk.download(\"punkt\")"
   ]
  },
  {
   "cell_type": "markdown",
   "id": "0be651fb-8d08-46a4-bef5-8dc5c903aaa4",
   "metadata": {},
   "source": [
    "#### Constants"
   ]
  },
  {
   "cell_type": "code",
   "execution_count": 24,
   "id": "5cade024-efd1-46c5-8fb4-6e42d0afb452",
   "metadata": {},
   "outputs": [],
   "source": [
    "from constants import (\n",
    "    CLEANED_DATA_DIR, \n",
    "    SITES_ELEMENTS_JSON_PATH,\n",
    "    URL_PATTERN, \n",
    "    REPLACED_URL_MAP_PATH, \n",
    "    MAX_TOKENS, \n",
    "    OVERLAP\n",
    ")"
   ]
  },
  {
   "cell_type": "markdown",
   "id": "2c06db7a-f0a9-4d69-b2f7-dfa8f16446cc",
   "metadata": {
    "jp-MarkdownHeadingCollapsed": true
   },
   "source": [
    "#### Tokenizer & Embedding Model Setup"
   ]
  },
  {
   "cell_type": "code",
   "execution_count": 6,
   "id": "004ca9ec-78ad-4257-a9bd-7184d99e0312",
   "metadata": {},
   "outputs": [
    {
     "data": {
      "application/vnd.jupyter.widget-view+json": {
       "model_id": "cb387ff6f92941c6915d8f777b6ebcb5",
       "version_major": 2,
       "version_minor": 0
      },
      "text/plain": [
       "tokenizer_config.json:   0%|          | 0.00/350 [00:00<?, ?B/s]"
      ]
     },
     "metadata": {},
     "output_type": "display_data"
    },
    {
     "data": {
      "application/vnd.jupyter.widget-view+json": {
       "model_id": "c72e89ca36d24b119536b2b8ef9aa25f",
       "version_major": 2,
       "version_minor": 0
      },
      "text/plain": [
       "vocab.txt:   0%|          | 0.00/232k [00:00<?, ?B/s]"
      ]
     },
     "metadata": {},
     "output_type": "display_data"
    },
    {
     "data": {
      "application/vnd.jupyter.widget-view+json": {
       "model_id": "fe0a4b36ec4d4b3ca99ad5fa6088a568",
       "version_major": 2,
       "version_minor": 0
      },
      "text/plain": [
       "tokenizer.json:   0%|          | 0.00/466k [00:00<?, ?B/s]"
      ]
     },
     "metadata": {},
     "output_type": "display_data"
    },
    {
     "data": {
      "application/vnd.jupyter.widget-view+json": {
       "model_id": "1f729b7e9aeb48249f35f21714123e3c",
       "version_major": 2,
       "version_minor": 0
      },
      "text/plain": [
       "special_tokens_map.json:   0%|          | 0.00/112 [00:00<?, ?B/s]"
      ]
     },
     "metadata": {},
     "output_type": "display_data"
    },
    {
     "data": {
      "application/vnd.jupyter.widget-view+json": {
       "model_id": "bad4fe5a5b1842599be07c9e8c0b239f",
       "version_major": 2,
       "version_minor": 0
      },
      "text/plain": [
       "modules.json:   0%|          | 0.00/349 [00:00<?, ?B/s]"
      ]
     },
     "metadata": {},
     "output_type": "display_data"
    },
    {
     "data": {
      "application/vnd.jupyter.widget-view+json": {
       "model_id": "705ff340fd434ceb8fa79530cd962995",
       "version_major": 2,
       "version_minor": 0
      },
      "text/plain": [
       "config_sentence_transformers.json:   0%|          | 0.00/116 [00:00<?, ?B/s]"
      ]
     },
     "metadata": {},
     "output_type": "display_data"
    },
    {
     "data": {
      "application/vnd.jupyter.widget-view+json": {
       "model_id": "1b9819f4f6a243adbc1fbc69a3cedcf6",
       "version_major": 2,
       "version_minor": 0
      },
      "text/plain": [
       "README.md:   0%|          | 0.00/10.5k [00:00<?, ?B/s]"
      ]
     },
     "metadata": {},
     "output_type": "display_data"
    },
    {
     "data": {
      "application/vnd.jupyter.widget-view+json": {
       "model_id": "27f5d622c380416da568ad2e73101c8c",
       "version_major": 2,
       "version_minor": 0
      },
      "text/plain": [
       "sentence_bert_config.json:   0%|          | 0.00/53.0 [00:00<?, ?B/s]"
      ]
     },
     "metadata": {},
     "output_type": "display_data"
    },
    {
     "data": {
      "application/vnd.jupyter.widget-view+json": {
       "model_id": "c082bc2d4bad4b57b18b0fbcacd62b84",
       "version_major": 2,
       "version_minor": 0
      },
      "text/plain": [
       "config.json:   0%|          | 0.00/612 [00:00<?, ?B/s]"
      ]
     },
     "metadata": {},
     "output_type": "display_data"
    },
    {
     "name": "stderr",
     "output_type": "stream",
     "text": [
      "Xet Storage is enabled for this repo, but the 'hf_xet' package is not installed. Falling back to regular HTTP download. For better performance, install the package with: `pip install huggingface_hub[hf_xet]` or `pip install hf_xet`\n"
     ]
    },
    {
     "data": {
      "application/vnd.jupyter.widget-view+json": {
       "model_id": "d2871135296e45979ea3e368bf0c01a9",
       "version_major": 2,
       "version_minor": 0
      },
      "text/plain": [
       "model.safetensors:   0%|          | 0.00/90.9M [00:00<?, ?B/s]"
      ]
     },
     "metadata": {},
     "output_type": "display_data"
    },
    {
     "data": {
      "application/vnd.jupyter.widget-view+json": {
       "model_id": "8346d603f34f4bdebd4c4f2799d513d0",
       "version_major": 2,
       "version_minor": 0
      },
      "text/plain": [
       "config.json:   0%|          | 0.00/190 [00:00<?, ?B/s]"
      ]
     },
     "metadata": {},
     "output_type": "display_data"
    }
   ],
   "source": [
    "tokenizer = AutoTokenizer.from_pretrained(\"sentence-transformers/all-MiniLM-L6-v2\")\n",
    "embedding_model = SentenceTransformer(\"sentence-transformers/all-MiniLM-L6-v2\", device=\"cuda\")"
   ]
  },
  {
   "cell_type": "markdown",
   "id": "fbf0fad1-fd4a-45b7-95b9-dc7ea912689a",
   "metadata": {},
   "source": [
    "#### Handle urls"
   ]
  },
  {
   "cell_type": "code",
   "execution_count": 25,
   "id": "fe460cae-d829-4c18-b7c8-b20ab15a97a0",
   "metadata": {},
   "outputs": [],
   "source": [
    "sites_elements = [\n",
    "    {\n",
    "        'text': \"Toll-free hotline 0 800 22922 Consultations will not be available on 17 April • Housing and declaration of residence • Social security and healthcare • Exchanging a driver's license and other questions • Job search and navigation in the labor market • Preparation of CV, motivation letters, job interviews • Individual activity and other questions • Coping with cultural adjustment • Managing stress and anxiety • Emotional regulation • Learn to navigate bureaucracy • Understand local traditions • Gain skills and information for daily life • Residence permits in Lithuania • Job contracts and protection of employee rights • Rental agreements and other • Build a sense of belonging and connection • Navigate challenges and develop resilience • Gain peer support in a safe environment The International Organization for Migration (IOM) is part of the United Nations System as the leading inter-governmental organization promoting since 1951 humane and orderly migration for the benefit of all, with 175 member states and a presence in over 100 countries. IOM has had a presence in Lithuania since 1998. IOM has established a Migration Information Center in Lithuania that provides information and services to migrants to facilitate their integration. 0 800 22922 (free line) +370 525 14352 Jasinskio st. 16, II floor [https://www.google.com/maps/dir/54.7157558,25.266244/migration+information+center+lithuania/@54.7019533,25.2448175,14z/data=!3m1!4b1!4m9!4m8!1m1!4e1!1m5!1m1!1s0x46dd952291c16a0d:0x5ab716e3b0066f76!2m2!1d25.259492!2d54.6870158?entry=ttu&g_ep=EgoyMDI0MDkyNC4wIKXMDSoASAFQAw%3D%3D] \",\n",
    "        'source': \"https://micenter.lt/en\"\n",
    "    }\n",
    "]"
   ]
  },
  {
   "cell_type": "code",
   "execution_count": null,
   "id": "aafb0e48-a086-487a-87d9-dea2d005e72a",
   "metadata": {},
   "outputs": [],
   "source": [
    "def is_url_saved(saved_urls: List[Dict[str, str]], url: str):\n",
    "    for saved_url_label, saved_url in saved_urls.items:\n",
    "        if saved_url == url:\n",
    "            return saved_url_label\n",
    "    return False\n",
    "\n",
    "def extract_and_replace_urls(text: str, last_url_number: int, saved_urls: List[Dict[str, str]], url_pattern: str = URL_PATTERN):\n",
    "    urls = re.findall(url_pattern, text)\n",
    "    url_map = {}\n",
    "    for url in urls:\n",
    "        saved_url_label = is_url_saved(saved_urls, url)\n",
    "        if isinstance(saved_url_label, str):\n",
    "            placeholder = saved_url_label\n",
    "        else:\n",
    "            pass\n",
    "        \n",
    "    # for i, url in enumerate(urls, start=1):\n",
    "    #     placeholder = f\"[URL_{i}]\"\n",
    "    #     text = text.replace(url, placeholder)\n",
    "    #     url_map[placeholder] = url\n",
    "    return text, url_map"
   ]
  },
  {
   "cell_type": "code",
   "execution_count": null,
   "id": "cfdd4f56-a428-4c7f-8748-405f53ae2c1e",
   "metadata": {},
   "outputs": [],
   "source": [
    "replaced_url_map = []\n",
    "saved_urls = [] # also saved file\n",
    "last_url_number = 0\n",
    "\n",
    "for text, source in sites_elements.items():\n",
    "    extract_and_replace_urls(text, last_url_number, saved_urls, URL_PATTERN)"
   ]
  },
  {
   "cell_type": "markdown",
   "id": "eaf5297f-4764-4f2f-9e0e-3c75745a6c1e",
   "metadata": {
    "jp-MarkdownHeadingCollapsed": true
   },
   "source": [
    "#### Chunking"
   ]
  },
  {
   "cell_type": "code",
   "execution_count": 23,
   "id": "78266d3e-15fe-4fef-bf9e-a4f4159c4339",
   "metadata": {},
   "outputs": [],
   "source": [
    "def split_into_chunks(text, max_tokens=400, overlap=50):\n",
    "    \"\"\"\n",
    "    Splits `text` into token-based chunks with overlap.\n",
    "    Returns a list of plain‑text chunks.\n",
    "    \"\"\"\n",
    "    tokens = tokenizer.tokenize(text)\n",
    "    chunks = []\n",
    "    start = 0\n",
    "    while start < len(tokens):\n",
    "        end = min(start + max_tokens, len(tokens))\n",
    "        chunk_toks = tokens[start:end]\n",
    "        chunk_text = tokenizer.convert_tokens_to_string(chunk_toks)\n",
    "        chunks.append(chunk_text.strip())\n",
    "        # move start forward, leaving some overlap\n",
    "        start += max_tokens - overlap\n",
    "    return chunks"
   ]
  },
  {
   "cell_type": "code",
   "execution_count": null,
   "id": "8d90cac6-b272-49fc-b297-9cd8524879f7",
   "metadata": {},
   "outputs": [],
   "source": []
  },
  {
   "cell_type": "code",
   "execution_count": 18,
   "id": "63eb3fd6-4389-4ad4-b50e-9f7ef5e03eae",
   "metadata": {},
   "outputs": [
    {
     "name": "stdout",
     "output_type": "stream",
     "text": [
      "1\n",
      "toll - free hotline 0 800 22922 consultations will not be available on 17 april • housing and declaration of residence • social security and healthcare • exchanging a driver ' s license and other questions • job search and navigation in the labor market • preparation of cv, motivation letters, job interviews • individual activity and other questions • coping with cultural adjustment • managing stress and anxiety • emotional regulation • learn to navigate bureaucracy • understand local traditions • gain skills and information for daily life • residence permits in lithuania • job contracts and protection of employee rights • rental agreements and other • build a sense of belonging and connection • navigate challenges and develop resilience • gain peer support in a safe environment the international organization for migration ( iom ) is part of the united nations system as the leading inter - governmental organization promoting since 1951 humane and orderly migration for the benefit of all, with 175 member states and a presence in over 100 countries. iom has had a presence in lithuania since 1998. iom has established a migration information center in lithuania that provides information and services to migrants to facilitate their integration. 0 800 22922 ( free line ) + 370 525 14352 jasinskio st. 16, ii floor _ _ link0 _ _\n",
      "\n",
      "\n"
     ]
    }
   ],
   "source": [
    "chunks = split_into_chunks(test_json[0]['text'], max_tokens=MAX_TOKENS, overlap=OVERLAP)\n",
    "pprint(len(chunks))\n",
    "for c in chunks:\n",
    "    print(f\"{c}\\n\\n\")"
   ]
  },
  {
   "cell_type": "code",
   "execution_count": null,
   "id": "4a1e849a-90fe-4e4d-98ba-6b8060411202",
   "metadata": {},
   "outputs": [],
   "source": []
  }
 ],
 "metadata": {
  "kernelspec": {
   "display_name": "Python 3 (ipykernel)",
   "language": "python",
   "name": "python3"
  },
  "language_info": {
   "codemirror_mode": {
    "name": "ipython",
    "version": 3
   },
   "file_extension": ".py",
   "mimetype": "text/x-python",
   "name": "python",
   "nbconvert_exporter": "python",
   "pygments_lexer": "ipython3",
   "version": "3.12.9"
  }
 },
 "nbformat": 4,
 "nbformat_minor": 5
}
